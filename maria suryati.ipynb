{
  "metadata": {
    "kernelspec": {
      "name": ""
    },
    "language_info": {
      "name": ""
    }
  },
  "nbformat_minor": 4,
  "nbformat": 4,
  "cells": [
    {
      "cell_type": "code",
      "source": "company_detail_list = [\n    {'name': 'Company 1', 'domain': 'Retail', 'country': 'United States'},\n    {'name': 'Company 2', 'domain': 'Technology', 'country': 'United Kingdom'},\n    {'name': 'Company 3', 'domain': 'Healthcare', 'country': 'United States'}\n]\n\nsorted_companies = sorted(company_detail_list, key=lambda x: x['name'], reverse=True)\nresult_task_1 = [{'name': company['name']} for company in sorted_companies]\nprint(result_task_1)\n",
      "metadata": {
        "trusted": true
      },
      "outputs": [],
      "execution_count": null
    },
    {
      "cell_type": "code",
      "source": "[{\"name\": \"Company 3\"}, {\"name\": \"Company 2\"}, {\"name\": \"Company 1\"}]\n",
      "metadata": {
        "trusted": true
      },
      "outputs": [],
      "execution_count": null
    },
    {
      "cell_type": "code",
      "source": "for company in company_detail_list:\n    print(f\"{company['name']}: {company['domain']} ({company['country']})\")\n\n",
      "metadata": {
        "trusted": true
      },
      "outputs": [],
      "execution_count": null
    },
    {
      "cell_type": "code",
      "source": "Company 1: Retail (United States)\nCompany 2: Technology (United Kingdom)\nCompany 3: Healthcare (United States)\n",
      "metadata": {
        "trusted": true
      },
      "outputs": [],
      "execution_count": null
    },
    {
      "cell_type": "code",
      "source": "employee_detail_list = [\n    {'name': 'EMP-0001', 'first_name': 'John', 'last_name': 'Doe', 'full_name': 'John Doe', 'company': 'Company 1', 'nationality': 'Australia'},\n    {'name': 'EMP-0002', 'first_name': 'Tom', 'last_name': 'Smith', 'full_name': 'Tom Smith', 'company': 'Company 2', 'nationality': 'United States'},\n    {'name': 'EMP-0003', 'first_name': 'Andrew', 'last_name': 'Sebastian', 'full_name': 'Andrew Sebastian', 'company': 'Company 3', 'nationality': 'United States'},\n    {'name': 'EMP-0005', 'first_name': 'Ying Han', 'last_name': 'Tan', 'full_name': 'Ying Han Tan', 'company': 'Company 1', 'nationality': 'Australia'},\n    {'name': 'EMP-0015', 'first_name': 'Kenneth', 'last_name': 'Ng', 'full_name': 'Kenneth Ng', 'company': 'Company 3', 'nationality': 'United States'},\n    {'name': 'EMP-0018', 'first_name': 'Rubby', 'last_name': 'Lee', 'full_name': 'Rubby Lee', 'company': 'Company 2', 'nationality': 'Hong Kong'},\n    {'name': 'EMP-0017', 'first_name': 'Robert', 'last_name': 'White', 'full_name': 'Robert White', 'company': 'Company 1', 'nationality': 'United Kingdom'}\n]\n\nemployees_by_domain = {}\nfor employee in employee_detail_list:\n    company_name = employee['company']\n    domain = next(company['domain'] for company in company_detail_list if company['name'] == company_name)\n    if domain not in employees_by_domain:\n        employees_by_domain[domain] = []\n    employees_by_domain[domain].append(employee['full_name'])\n\nprint(employees_by_domain)\n",
      "metadata": {
        "trusted": true
      },
      "outputs": [],
      "execution_count": null
    },
    {
      "cell_type": "code",
      "source": "{\n    \"Retail\": [\"John Doe\", \"Robert White\", \"Ying Han Tan\"],\n    \"Technology\": [\"Tom Smith\", \"Rubby Lee\"],\n    \"Healthcare\": [\"Andrew Sebastian\", \"Kenneth Ng\"]\n}\n",
      "metadata": {
        "trusted": true
      },
      "outputs": [],
      "execution_count": null
    },
    {
      "cell_type": "code",
      "source": "employees_with_country = []\nfor employee in employee_detail_list:\n    company_country = next(company['country'] for company in company_detail_list if company['name'] == employee['company'])\n    employees_with_country.append({\n        'full_name': employee['full_name'],\n        'company': employee['company'],\n        'country': company_country\n    })\n\nprint(employees_with_country)\n",
      "metadata": {
        "trusted": true
      },
      "outputs": [],
      "execution_count": null
    },
    {
      "cell_type": "code",
      "source": "[\n    {\"full_name\": \"John Doe\", \"company\": \"Company 1\", \"country\": \"United States\"},\n    {\"full_name\": \"Tom Smith\", \"company\": \"Company 2\", \"country\": \"United Kingdom\"},\n    {\"full_name\": \"Andrew Sebastian\", \"company\": \"Company 3\", \"country\": \"United States\"},\n    {\"full_name\": \"Ying Han Tan\", \"company\": \"Company 1\", \"country\": \"United States\"},\n    {\"full_name\": \"Kenneth Ng\", \"company\": \"Company 3\", \"country\": \"United States\"},\n    {\"full_name\": \"Rubby Lee\", \"company\": \"Company 2\", \"country\": \"United Kingdom\"},\n    {\"full_name\": \"Robert White\", \"company\": \"Company 1\", \"country\": \"United States\"}\n]\n",
      "metadata": {
        "trusted": true
      },
      "outputs": [],
      "execution_count": null
    },
    {
      "cell_type": "code",
      "source": "from collections import defaultdict\n\nnationalities_by_company = []\nfor company in company_detail_list:\n    company_name = company['name']\n    nationalities_count = defaultdict(int)\n\n    for employee in employee_detail_list:\n        if employee['company'] == company_name:\n            nationalities_count[employee['nationality']] += 1\n\n    nationalities_by_company.append({\n        'company': company_name,\n        'employee_nationality': dict(nationalities_count)\n    })\n\nprint(nationalities_by_company)\n",
      "metadata": {
        "trusted": true
      },
      "outputs": [],
      "execution_count": null
    },
    {
      "cell_type": "code",
      "source": "[\n    {\"company\": \"Company 1\", \"employee_nationality\": {\"Australia\": 2, \"United Kingdom\": 1}},\n    {\"company\": \"Company 2\", \"employee_nationality\": {\"United States\": 1, \"Hong Kong\": 1}},\n    {\"company\": \"Company 3\", \"employee_nationality\": {\"United States\": 2}}\n]\n",
      "metadata": {
        "trusted": true
      },
      "outputs": [],
      "execution_count": null
    }
  ]
}